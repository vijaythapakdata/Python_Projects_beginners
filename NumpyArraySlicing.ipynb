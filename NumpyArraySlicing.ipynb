{
  "nbformat": 4,
  "nbformat_minor": 0,
  "metadata": {
    "colab": {
      "name": "NumpyArraySlicing.ipynb",
      "provenance": [],
      "collapsed_sections": [],
      "authorship_tag": "ABX9TyPMKZ9pBmpIjRj/ECXK5rh2"
    },
    "kernelspec": {
      "name": "python3",
      "display_name": "Python 3"
    },
    "language_info": {
      "name": "python"
    }
  },
  "cells": [
    {
      "cell_type": "code",
      "metadata": {
        "colab": {
          "base_uri": "https://localhost:8080/"
        },
        "id": "fwYWNOzYYuwJ",
        "outputId": "e00842f5-3076-4bee-865b-c24374718ebb"
      },
      "source": [
        "import numpy as np\n",
        "arr=np.array([1,2,3,4,5,6,7,8,9])\n",
        "#print 1 to 5\n",
        "print(arr[1:5])\n",
        "#print every element 1 to 5 but not include last elemnt\n"
      ],
      "execution_count": 1,
      "outputs": [
        {
          "output_type": "stream",
          "text": [
            "[2 3 4 5]\n"
          ],
          "name": "stdout"
        }
      ]
    },
    {
      "cell_type": "code",
      "metadata": {
        "colab": {
          "base_uri": "https://localhost:8080/"
        },
        "id": "lVrwv_miZcQl",
        "outputId": "a83b6065-deb6-4e66-8b88-c6b68d4fc8c4"
      },
      "source": [
        "print(arr[:4])"
      ],
      "execution_count": 2,
      "outputs": [
        {
          "output_type": "stream",
          "text": [
            "[1 2 3 4]\n"
          ],
          "name": "stdout"
        }
      ]
    },
    {
      "cell_type": "code",
      "metadata": {
        "colab": {
          "base_uri": "https://localhost:8080/"
        },
        "id": "78CHbcyaZjfg",
        "outputId": "11501316-d5e7-4379-dffd-55ef5168c03a"
      },
      "source": [
        "print(arr[4:])"
      ],
      "execution_count": 3,
      "outputs": [
        {
          "output_type": "stream",
          "text": [
            "[5 6 7 8 9]\n"
          ],
          "name": "stdout"
        }
      ]
    },
    {
      "cell_type": "code",
      "metadata": {
        "colab": {
          "base_uri": "https://localhost:8080/"
        },
        "id": "oKSXlpahZnmy",
        "outputId": "c701ea3b-59d4-49fd-9ad8-5c68aa6afe06"
      },
      "source": [
        "#negative indexing\n",
        "print(arr[-3:-1])"
      ],
      "execution_count": 4,
      "outputs": [
        {
          "output_type": "stream",
          "text": [
            "[7 8]\n"
          ],
          "name": "stdout"
        }
      ]
    },
    {
      "cell_type": "code",
      "metadata": {
        "colab": {
          "base_uri": "https://localhost:8080/"
        },
        "id": "3rDmVbjbacAV",
        "outputId": "a30e3684-16aa-409d-f8d7-b791089a4a69"
      },
      "source": [
        "#2-d array slicing\n",
        "arr1=np.array([[1,2,3,4,5,6],[7,8,9,10,11,12]])\n",
        "print(arr1[0,1:2])"
      ],
      "execution_count": 5,
      "outputs": [
        {
          "output_type": "stream",
          "text": [
            "[2]\n"
          ],
          "name": "stdout"
        }
      ]
    },
    {
      "cell_type": "code",
      "metadata": {
        "colab": {
          "base_uri": "https://localhost:8080/"
        },
        "id": "as8PZTa2asUA",
        "outputId": "882c3ea3-4c51-47ef-f215-ace4bab8a24b"
      },
      "source": [
        "print(arr1[0,0:2])"
      ],
      "execution_count": 6,
      "outputs": [
        {
          "output_type": "stream",
          "text": [
            "[1 2]\n"
          ],
          "name": "stdout"
        }
      ]
    },
    {
      "cell_type": "code",
      "metadata": {
        "colab": {
          "base_uri": "https://localhost:8080/"
        },
        "id": "Hyzi6y7Iaw-Y",
        "outputId": "8c01b74e-9d63-4e34-9374-9f645c27a938"
      },
      "source": [
        "print(arr1[1,0:2])"
      ],
      "execution_count": 7,
      "outputs": [
        {
          "output_type": "stream",
          "text": [
            "[7 8]\n"
          ],
          "name": "stdout"
        }
      ]
    },
    {
      "cell_type": "code",
      "metadata": {
        "colab": {
          "base_uri": "https://localhost:8080/"
        },
        "id": "UdU8yy89a6Rv",
        "outputId": "4062c61c-59c3-49dd-c340-7d9a387c5332"
      },
      "source": [
        "print(arr1[0:2,1:3])"
      ],
      "execution_count": 8,
      "outputs": [
        {
          "output_type": "stream",
          "text": [
            "[[2 3]\n",
            " [8 9]]\n"
          ],
          "name": "stdout"
        }
      ]
    }
  ]
}