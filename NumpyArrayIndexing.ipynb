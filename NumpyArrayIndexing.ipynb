{
  "nbformat": 4,
  "nbformat_minor": 0,
  "metadata": {
    "colab": {
      "name": "NumpyArrayIndexing.ipynb",
      "provenance": [],
      "authorship_tag": "ABX9TyOvbk1BSqqvfjQ0EvukGbHQ"
    },
    "kernelspec": {
      "name": "python3",
      "display_name": "Python 3"
    },
    "language_info": {
      "name": "python"
    }
  },
  "cells": [
    {
      "cell_type": "code",
      "metadata": {
        "colab": {
          "base_uri": "https://localhost:8080/"
        },
        "id": "_5HFoIO3V2PD",
        "outputId": "ec45dcb7-c092-40c3-c963-855b50932f64"
      },
      "source": [
        "import numpy as np\n",
        "#1-d array indexing\n",
        "arr=np.array([1,2,3,4,5])\n",
        "print(arr[1])"
      ],
      "execution_count": 1,
      "outputs": [
        {
          "output_type": "stream",
          "text": [
            "2\n"
          ],
          "name": "stdout"
        }
      ]
    },
    {
      "cell_type": "code",
      "metadata": {
        "colab": {
          "base_uri": "https://localhost:8080/"
        },
        "id": "t7biHzINWF-y",
        "outputId": "2fdcacae-01bf-4b36-dc62-6213f3def520"
      },
      "source": [
        "print(arr[1:3])"
      ],
      "execution_count": 3,
      "outputs": [
        {
          "output_type": "stream",
          "text": [
            "[2 3]\n"
          ],
          "name": "stdout"
        }
      ]
    },
    {
      "cell_type": "code",
      "metadata": {
        "colab": {
          "base_uri": "https://localhost:8080/"
        },
        "id": "Xn9K2v7rWMbh",
        "outputId": "63c7af43-4c7c-49dd-892b-c30dc4eb005d"
      },
      "source": [
        "#2-d array indexing\n",
        "arr1=np.array([[1,2,3,4],[5,6,7,8]])\n",
        "print(arr1[0][2])"
      ],
      "execution_count": 4,
      "outputs": [
        {
          "output_type": "stream",
          "text": [
            "3\n"
          ],
          "name": "stdout"
        }
      ]
    },
    {
      "cell_type": "code",
      "metadata": {
        "colab": {
          "base_uri": "https://localhost:8080/"
        },
        "id": "o5fTVkRmWZ9F",
        "outputId": "4fda99ba-9c89-4f0f-bb1d-8e9fc165b7c9"
      },
      "source": [
        "print(arr1[1][3])"
      ],
      "execution_count": 5,
      "outputs": [
        {
          "output_type": "stream",
          "text": [
            "8\n"
          ],
          "name": "stdout"
        }
      ]
    },
    {
      "cell_type": "code",
      "metadata": {
        "colab": {
          "base_uri": "https://localhost:8080/"
        },
        "id": "xeetdNm2WfXP",
        "outputId": "93a87566-d856-4953-87c6-0a2f6b52f6a2"
      },
      "source": [
        "#3-d array indexing\n",
        "arr2=np.array([[[1,2,3],[4,5,6]],[[7,8,9],[10,11,12]]])\n",
        "print(arr2[0][1][2])"
      ],
      "execution_count": 11,
      "outputs": [
        {
          "output_type": "stream",
          "text": [
            "6\n"
          ],
          "name": "stdout"
        }
      ]
    },
    {
      "cell_type": "code",
      "metadata": {
        "colab": {
          "base_uri": "https://localhost:8080/"
        },
        "id": "zUkKlgQrXt9m",
        "outputId": "a3f1d59a-0f34-4d90-c082-ad7e6b954eb8"
      },
      "source": [
        "print(arr2[1][1][2])"
      ],
      "execution_count": 13,
      "outputs": [
        {
          "output_type": "stream",
          "text": [
            "12\n"
          ],
          "name": "stdout"
        }
      ]
    },
    {
      "cell_type": "code",
      "metadata": {
        "colab": {
          "base_uri": "https://localhost:8080/"
        },
        "id": "gjxb2RE8X8Gc",
        "outputId": "e38b1bd3-91d4-4e4d-82a7-dbe5fb881272"
      },
      "source": [
        "print(arr2[1][0][1])"
      ],
      "execution_count": 14,
      "outputs": [
        {
          "output_type": "stream",
          "text": [
            "8\n"
          ],
          "name": "stdout"
        }
      ]
    },
    {
      "cell_type": "code",
      "metadata": {
        "colab": {
          "base_uri": "https://localhost:8080/"
        },
        "id": "PXKygaaGYJ1l",
        "outputId": "98b0f59e-7a63-4125-d6cc-bad9c78cc15d"
      },
      "source": [
        "print(arr2[0][1][1])"
      ],
      "execution_count": 15,
      "outputs": [
        {
          "output_type": "stream",
          "text": [
            "5\n"
          ],
          "name": "stdout"
        }
      ]
    },
    {
      "cell_type": "code",
      "metadata": {
        "colab": {
          "base_uri": "https://localhost:8080/"
        },
        "id": "ryLs_BO5YP-9",
        "outputId": "2e8bea3f-d9a7-4f07-b381-9e091cc6855d"
      },
      "source": [
        "print(arr2[0][0][1])"
      ],
      "execution_count": 16,
      "outputs": [
        {
          "output_type": "stream",
          "text": [
            "2\n"
          ],
          "name": "stdout"
        }
      ]
    },
    {
      "cell_type": "code",
      "metadata": {
        "id": "lEQQh9aPYWiz"
      },
      "source": [
        ""
      ],
      "execution_count": null,
      "outputs": []
    }
  ]
}