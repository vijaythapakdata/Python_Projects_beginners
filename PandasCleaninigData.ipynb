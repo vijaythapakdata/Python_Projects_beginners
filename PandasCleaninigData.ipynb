{
  "nbformat": 4,
  "nbformat_minor": 0,
  "metadata": {
    "colab": {
      "name": "PandasCleaninigData.ipynb",
      "provenance": [],
      "collapsed_sections": [],
      "authorship_tag": "ABX9TyOrqXpu3TH8JjOOo/q7Jkzq"
    },
    "kernelspec": {
      "name": "python3",
      "display_name": "Python 3"
    },
    "language_info": {
      "name": "python"
    }
  },
  "cells": [
    {
      "cell_type": "code",
      "metadata": {
        "id": "nynr1IKplkxm"
      },
      "source": [
        "import pandas as pd\n",
        "df=pd.read_csv(\"/content/dirtydata.csv\")"
      ],
      "execution_count": 4,
      "outputs": []
    },
    {
      "cell_type": "code",
      "metadata": {
        "colab": {
          "base_uri": "https://localhost:8080/",
          "height": 204
        },
        "id": "WisQ1L2dl1EH",
        "outputId": "598596b1-3fbe-4e40-d379-0fd038a3fa2c"
      },
      "source": [
        "#print first 5 rows\n",
        "df.head()"
      ],
      "execution_count": 5,
      "outputs": [
        {
          "output_type": "execute_result",
          "data": {
            "text/html": [
              "<div>\n",
              "<style scoped>\n",
              "    .dataframe tbody tr th:only-of-type {\n",
              "        vertical-align: middle;\n",
              "    }\n",
              "\n",
              "    .dataframe tbody tr th {\n",
              "        vertical-align: top;\n",
              "    }\n",
              "\n",
              "    .dataframe thead th {\n",
              "        text-align: right;\n",
              "    }\n",
              "</style>\n",
              "<table border=\"1\" class=\"dataframe\">\n",
              "  <thead>\n",
              "    <tr style=\"text-align: right;\">\n",
              "      <th></th>\n",
              "      <th>Duration</th>\n",
              "      <th>Date</th>\n",
              "      <th>Pulse</th>\n",
              "      <th>Maxpulse</th>\n",
              "      <th>Calories</th>\n",
              "    </tr>\n",
              "  </thead>\n",
              "  <tbody>\n",
              "    <tr>\n",
              "      <th>0</th>\n",
              "      <td>60</td>\n",
              "      <td>'2020/12/01'</td>\n",
              "      <td>110</td>\n",
              "      <td>130</td>\n",
              "      <td>409.1</td>\n",
              "    </tr>\n",
              "    <tr>\n",
              "      <th>1</th>\n",
              "      <td>60</td>\n",
              "      <td>'2020/12/02'</td>\n",
              "      <td>117</td>\n",
              "      <td>145</td>\n",
              "      <td>479.0</td>\n",
              "    </tr>\n",
              "    <tr>\n",
              "      <th>2</th>\n",
              "      <td>60</td>\n",
              "      <td>'2020/12/03'</td>\n",
              "      <td>103</td>\n",
              "      <td>135</td>\n",
              "      <td>340.0</td>\n",
              "    </tr>\n",
              "    <tr>\n",
              "      <th>3</th>\n",
              "      <td>45</td>\n",
              "      <td>'2020/12/04'</td>\n",
              "      <td>109</td>\n",
              "      <td>175</td>\n",
              "      <td>282.4</td>\n",
              "    </tr>\n",
              "    <tr>\n",
              "      <th>4</th>\n",
              "      <td>45</td>\n",
              "      <td>'2020/12/05'</td>\n",
              "      <td>117</td>\n",
              "      <td>148</td>\n",
              "      <td>406.0</td>\n",
              "    </tr>\n",
              "  </tbody>\n",
              "</table>\n",
              "</div>"
            ],
            "text/plain": [
              "   Duration          Date  Pulse  Maxpulse  Calories\n",
              "0        60  '2020/12/01'    110       130     409.1\n",
              "1        60  '2020/12/02'    117       145     479.0\n",
              "2        60  '2020/12/03'    103       135     340.0\n",
              "3        45  '2020/12/04'    109       175     282.4\n",
              "4        45  '2020/12/05'    117       148     406.0"
            ]
          },
          "metadata": {
            "tags": []
          },
          "execution_count": 5
        }
      ]
    },
    {
      "cell_type": "code",
      "metadata": {
        "colab": {
          "base_uri": "https://localhost:8080/"
        },
        "id": "lUGb0bm4l5O5",
        "outputId": "d5ea4940-344b-4a17-8521-b8ee4d407a10"
      },
      "source": [
        "#summarize missing values\n",
        "print(df.isnull().sum())"
      ],
      "execution_count": 6,
      "outputs": [
        {
          "output_type": "stream",
          "text": [
            "Duration    0\n",
            "Date        1\n",
            "Pulse       0\n",
            "Maxpulse    0\n",
            "Calories    2\n",
            "dtype: int64\n"
          ],
          "name": "stdout"
        }
      ]
    },
    {
      "cell_type": "code",
      "metadata": {
        "colab": {
          "base_uri": "https://localhost:8080/"
        },
        "id": "YRTLJn0-mIQ6",
        "outputId": "6cba408d-3d54-4777-e61f-feb756a85984"
      },
      "source": [
        "df.dropna()\n",
        "print(df.isnull().sum())"
      ],
      "execution_count": 9,
      "outputs": [
        {
          "output_type": "stream",
          "text": [
            "Duration    0\n",
            "Date        1\n",
            "Pulse       0\n",
            "Maxpulse    0\n",
            "Calories    2\n",
            "dtype: int64\n"
          ],
          "name": "stdout"
        }
      ]
    },
    {
      "cell_type": "code",
      "metadata": {
        "colab": {
          "base_uri": "https://localhost:8080/"
        },
        "id": "zKMLEH66ysvv",
        "outputId": "fa190a5a-7705-41ff-f204-45350b1a6123"
      },
      "source": [
        "df.dropna(inplace=True)\n",
        "print(df.isnull().sum())"
      ],
      "execution_count": 10,
      "outputs": [
        {
          "output_type": "stream",
          "text": [
            "Duration    0\n",
            "Date        0\n",
            "Pulse       0\n",
            "Maxpulse    0\n",
            "Calories    0\n",
            "dtype: int64\n"
          ],
          "name": "stdout"
        }
      ]
    }
  ]
}