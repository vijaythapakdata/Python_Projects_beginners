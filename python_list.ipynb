{
  "nbformat": 4,
  "nbformat_minor": 0,
  "metadata": {
    "colab": {
      "name": "python_list.ipynb",
      "provenance": [],
      "collapsed_sections": [],
      "authorship_tag": "ABX9TyMxVbeXs/0DOHmtPz1gjmnZ"
    },
    "kernelspec": {
      "name": "python3",
      "display_name": "Python 3"
    },
    "language_info": {
      "name": "python"
    }
  },
  "cells": [
    {
      "cell_type": "code",
      "metadata": {
        "colab": {
          "base_uri": "https://localhost:8080/"
        },
        "id": "qTHsmozGEbac",
        "outputId": "b7ac56b7-dd50-4b07-9279-961bf76b8242"
      },
      "source": [
        "#python list\n",
        "\n",
        "a=[]#emptylist\n",
        "\n",
        "b=[1,2,3,4,5]\n",
        "\n",
        "c=[1,1.5,\"Vijay\"]\n",
        "\n",
        "print(a)\n",
        "\n",
        "print(b)\n",
        "\n",
        "print(c)"
      ],
      "execution_count": 1,
      "outputs": [
        {
          "output_type": "stream",
          "text": [
            "[]\n",
            "[1, 2, 3, 4, 5]\n",
            "[1, 1.5, 'Vijay']\n"
          ],
          "name": "stdout"
        }
      ]
    },
    {
      "cell_type": "code",
      "metadata": {
        "colab": {
          "base_uri": "https://localhost:8080/"
        },
        "id": "opvj5ICpE_Zq",
        "outputId": "6b017a02-72d0-489f-af33-40f9df01c208"
      },
      "source": [
        "#2_d list\n",
        "\n",
        "a=[1,2,3,[\"Vijay\",\"Thapak\"],1.5,1.6]\n",
        "\n",
        "print(a)\n",
        "\n",
        "print(a[0:2])\n",
        "print(a[1:2])"
      ],
      "execution_count": 5,
      "outputs": [
        {
          "output_type": "stream",
          "text": [
            "[1, 2, 3, ['Vijay', 'Thapak'], 1.5, 1.6]\n",
            "[1, 2]\n",
            "[2]\n"
          ],
          "name": "stdout"
        }
      ]
    },
    {
      "cell_type": "code",
      "metadata": {
        "colab": {
          "base_uri": "https://localhost:8080/"
        },
        "id": "9E84JDlQFdi0",
        "outputId": "aec233c5-d279-4fb5-9c79-25797bc16ed9"
      },
      "source": [
        "#list slicing\n",
        "\n",
        "a=[1,2,3,4,5,6,7,8,9,10]\n",
        "\n",
        "print(a[0])\n",
        "print(a[2:4])\n",
        "\n",
        "print(a[3:4])"
      ],
      "execution_count": 8,
      "outputs": [
        {
          "output_type": "stream",
          "text": [
            "1\n",
            "[3, 4]\n",
            "[4]\n"
          ],
          "name": "stdout"
        }
      ]
    },
    {
      "cell_type": "code",
      "metadata": {
        "colab": {
          "base_uri": "https://localhost:8080/"
        },
        "id": "DwuTbeCJIuGU",
        "outputId": "37b548c3-bbea-4be0-a3ff-81c58caed28a"
      },
      "source": [
        "#negative indexing\n",
        "\n",
        "a=[1,2,3,4,5,6,7,8]\n",
        "\n",
        "print(a[-1])\n",
        "\n",
        "print(a[-5])"
      ],
      "execution_count": 10,
      "outputs": [
        {
          "output_type": "stream",
          "text": [
            "8\n",
            "4\n"
          ],
          "name": "stdout"
        }
      ]
    },
    {
      "cell_type": "code",
      "metadata": {
        "colab": {
          "base_uri": "https://localhost:8080/"
        },
        "id": "p1CqKgJCI6RO",
        "outputId": "ddfec822-f077-46e8-f7a8-403d92782466"
      },
      "source": [
        "print(a[-1:-3])"
      ],
      "execution_count": 11,
      "outputs": [
        {
          "output_type": "stream",
          "text": [
            "[]\n"
          ],
          "name": "stdout"
        }
      ]
    },
    {
      "cell_type": "code",
      "metadata": {
        "colab": {
          "base_uri": "https://localhost:8080/"
        },
        "id": "MKukYsncJAlr",
        "outputId": "14837213-39ce-4795-9506-38faa6e907b7"
      },
      "source": [
        "#add item in the list\n",
        "#list is mutable unlike string and tuple\n",
        "#we can add item in the list by using assignment operator =\n",
        "\n",
        "a=[2]\n",
        "a[0]=1\n",
        "print(a)\n",
        "print(a)\n"
      ],
      "execution_count": 16,
      "outputs": [
        {
          "output_type": "stream",
          "text": [
            "[1]\n",
            "[1]\n"
          ],
          "name": "stdout"
        }
      ]
    },
    {
      "cell_type": "code",
      "metadata": {
        "colab": {
          "base_uri": "https://localhost:8080/"
        },
        "id": "6LL6YZccJpOH",
        "outputId": "67cdaf10-5c97-4a24-e190-c917937b0c65"
      },
      "source": [
        "#appending and extending in the list\n",
        "#append is used to add one item at a time in the list\n",
        "#extend is used to add several items at a time in the list\n",
        "\n",
        "a=[1,2,3,4]\n",
        "\n",
        "print(a)\n",
        "#append\n",
        "a.append(7)\n",
        "print(a)\n",
        "\n",
        "#extend\n",
        "\n",
        "a.extend([8,9,10,11,22])\n",
        "print(a)"
      ],
      "execution_count": 20,
      "outputs": [
        {
          "output_type": "stream",
          "text": [
            "[1, 2, 3, 4]\n",
            "[1, 2, 3, 4, 7]\n",
            "[1, 2, 3, 4, 7, 8, 9, 10, 11, 22]\n"
          ],
          "name": "stdout"
        }
      ]
    },
    {
      "cell_type": "code",
      "metadata": {
        "colab": {
          "base_uri": "https://localhost:8080/"
        },
        "id": "2XfG4QnpKTT1",
        "outputId": "c6aa7954-c109-4532-c64e-0b8cc1724dad"
      },
      "source": [
        "# we can use + sign to combine the list this is called concatination\n",
        "# * asterics sign to repeat the list\n",
        "\n",
        "a=[1,2,3,4,5]\n",
        "\n",
        "print(a+[6,7,8,9])\n",
        "\n",
        "# asteric sign\n",
        "\n",
        "print([\"Vijay thapak\"]*3)"
      ],
      "execution_count": 22,
      "outputs": [
        {
          "output_type": "stream",
          "text": [
            "[1, 2, 3, 4, 5, 6, 7, 8, 9]\n",
            "['Vijay thapak', 'Vijay thapak', 'Vijay thapak']\n"
          ],
          "name": "stdout"
        }
      ]
    },
    {
      "cell_type": "code",
      "metadata": {
        "colab": {
          "base_uri": "https://localhost:8080/"
        },
        "id": "A8ax6WPIK-Cu",
        "outputId": "987a7d07-d30e-46c7-a1c7-9efc6da89666"
      },
      "source": [
        "#insert item at a desigred location by using insert() method\n",
        "\n",
        "a=[1,2,3]\n",
        "print(a)\n",
        "a.insert(2,5)\n",
        "print(a)\n",
        "\n",
        "#we can also add multiple items\n",
        "\n",
        "a[3:5]=[67,89,90]\n",
        "print(a)\n"
      ],
      "execution_count": 25,
      "outputs": [
        {
          "output_type": "stream",
          "text": [
            "[1, 2, 3]\n",
            "[1, 2, 5, 3]\n",
            "[1, 2, 5, 67, 89, 90]\n"
          ],
          "name": "stdout"
        }
      ]
    },
    {
      "cell_type": "code",
      "metadata": {
        "colab": {
          "base_uri": "https://localhost:8080/"
        },
        "id": "ogzz3BjvLqgj",
        "outputId": "01f4d8d3-7605-4cd3-dfad-6b5b43033bba"
      },
      "source": [
        "#delete is used for deleting one or more item in the list\n",
        "\n",
        "a=[1,2,3,4,5,6]\n",
        "\n",
        "print(a)\n",
        "\n",
        "#delete the items\n",
        "del a[2]\n",
        "print(a)\n",
        "#delete more than one item\n",
        "\n",
        "del a[1:3]\n",
        "print(a)"
      ],
      "execution_count": 29,
      "outputs": [
        {
          "output_type": "stream",
          "text": [
            "[1, 2, 3, 4, 5, 6]\n",
            "[1, 2, 4, 5, 6]\n",
            "[1, 5, 6]\n"
          ],
          "name": "stdout"
        }
      ]
    },
    {
      "cell_type": "code",
      "metadata": {
        "colab": {
          "base_uri": "https://localhost:8080/"
        },
        "id": "FsLNA-HaMRqL",
        "outputId": "79e11eef-2b96-47c1-be40-e71bfd2a63dc"
      },
      "source": [
        "#remove and pop\n",
        "#remove is used to for deleting the item\n",
        "#pop is used to delete the item by given idex\n",
        "\n",
        "a=[\"v\",\"i\",\"j\",\"a\",\"y\"]\n",
        "\n",
        "print(a)\n",
        "a.remove(\"i\")\n",
        "print(a)\n",
        "\n",
        "print(a.pop(2))\n"
      ],
      "execution_count": 34,
      "outputs": [
        {
          "output_type": "stream",
          "text": [
            "['v', 'i', 'j', 'a', 'y']\n",
            "['v', 'j', 'a', 'y']\n",
            "a\n"
          ],
          "name": "stdout"
        }
      ]
    },
    {
      "cell_type": "code",
      "metadata": {
        "colab": {
          "base_uri": "https://localhost:8080/"
        },
        "id": "U4rHsU9uNAca",
        "outputId": "d8816146-08ea-4544-95af-cdbf1e18ac5a"
      },
      "source": [
        "#index or count of the list\n",
        "\n",
        "a=[1,2,3,4,5,6,1,3,4,5,1,5,6,7,8]\n",
        "print(a.count(3))\n",
        "print(a.count(1))\n",
        "print(a.index(4))\n",
        "\n",
        "a.reverse()\n",
        "print(a)"
      ],
      "execution_count": 38,
      "outputs": [
        {
          "output_type": "stream",
          "text": [
            "2\n",
            "3\n",
            "3\n",
            "[8, 7, 6, 5, 1, 5, 4, 3, 1, 6, 5, 4, 3, 2, 1]\n"
          ],
          "name": "stdout"
        }
      ]
    },
    {
      "cell_type": "code",
      "metadata": {
        "colab": {
          "base_uri": "https://localhost:8080/"
        },
        "id": "cr4NAm6aNQTq",
        "outputId": "68b324d5-121f-452b-9203-36802724543c"
      },
      "source": [
        "#iteration\n",
        "\n",
        "for fruit in[\"Apple\",\"Mango\",\"Banana\"]:\n",
        "  print(\"I like \",fruit)"
      ],
      "execution_count": 39,
      "outputs": [
        {
          "output_type": "stream",
          "text": [
            "I like  Apple\n",
            "I like  Mango\n",
            "I like  Banana\n"
          ],
          "name": "stdout"
        }
      ]
    },
    {
      "cell_type": "code",
      "metadata": {
        "colab": {
          "base_uri": "https://localhost:8080/"
        },
        "id": "i7kula4rNvWz",
        "outputId": "77697cc5-dcee-44c5-bb02-31bf79dd9405"
      },
      "source": [
        "#list membership\n",
        "\n",
        "a=[\"v\",\"i\",\"j\",\"a\",\"y\"]\n",
        "\n",
        "print(\"p\" in a)\n",
        "print(\"a\" in a)"
      ],
      "execution_count": 41,
      "outputs": [
        {
          "output_type": "stream",
          "text": [
            "False\n",
            "True\n"
          ],
          "name": "stdout"
        }
      ]
    }
  ]
}