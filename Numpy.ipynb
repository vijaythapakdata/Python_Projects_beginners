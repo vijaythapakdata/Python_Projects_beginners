{
  "nbformat": 4,
  "nbformat_minor": 0,
  "metadata": {
    "colab": {
      "name": "Numpy.ipynb",
      "provenance": [],
      "collapsed_sections": [],
      "authorship_tag": "ABX9TyN1jhNJhw+Qhf5z3nLV9W9k"
    },
    "kernelspec": {
      "name": "python3",
      "display_name": "Python 3"
    },
    "language_info": {
      "name": "python"
    }
  },
  "cells": [
    {
      "cell_type": "code",
      "metadata": {
        "colab": {
          "base_uri": "https://localhost:8080/"
        },
        "id": "Z6FGpBGeT1GQ",
        "outputId": "18117354-1aa8-464d-8720-e14addbfac5d"
      },
      "source": [
        "#simple numpy example\n",
        "import numpy as np\n",
        "arr=np.array([1,2,3,4])\n",
        "print(arr)"
      ],
      "execution_count": 1,
      "outputs": [
        {
          "output_type": "stream",
          "text": [
            "[1 2 3 4]\n"
          ],
          "name": "stdout"
        }
      ]
    },
    {
      "cell_type": "code",
      "metadata": {
        "colab": {
          "base_uri": "https://localhost:8080/"
        },
        "id": "5g7LXYS8UIk6",
        "outputId": "def99e62-a230-47cd-e041-3b969742921c"
      },
      "source": [
        "#check the dimension of array\n",
        "arr1=np.array(12)\n",
        "print(arr1.ndim)"
      ],
      "execution_count": 2,
      "outputs": [
        {
          "output_type": "stream",
          "text": [
            "0\n"
          ],
          "name": "stdout"
        }
      ]
    },
    {
      "cell_type": "code",
      "metadata": {
        "colab": {
          "base_uri": "https://localhost:8080/"
        },
        "id": "-8v13vNPUcMv",
        "outputId": "176e913d-4173-42e5-e180-7ffcdf0ceca6"
      },
      "source": [
        "arr2=np.array([1,2,3,5,6])\n",
        "print(arr2.ndim)"
      ],
      "execution_count": 3,
      "outputs": [
        {
          "output_type": "stream",
          "text": [
            "1\n"
          ],
          "name": "stdout"
        }
      ]
    },
    {
      "cell_type": "code",
      "metadata": {
        "colab": {
          "base_uri": "https://localhost:8080/"
        },
        "id": "MOYekLGqUk1C",
        "outputId": "f64bca85-2850-4a05-ebf1-447c25e05e98"
      },
      "source": [
        "arr3=np.array([[1,2,3,4,5],[1,2,3,4,5]])\n",
        "print(arr3.ndim)"
      ],
      "execution_count": 4,
      "outputs": [
        {
          "output_type": "stream",
          "text": [
            "2\n"
          ],
          "name": "stdout"
        }
      ]
    },
    {
      "cell_type": "code",
      "metadata": {
        "colab": {
          "base_uri": "https://localhost:8080/"
        },
        "id": "-Ez6ARmJUvHV",
        "outputId": "d0190d73-50e9-4679-a808-0e24d4daa79e"
      },
      "source": [
        "arr4=np.array([[[1,2,3,4],[5,6,7,8]],[[1,2,3,4],[5,6,7,8]]])\n",
        "print(arr4.ndim)"
      ],
      "execution_count": 7,
      "outputs": [
        {
          "output_type": "stream",
          "text": [
            "3\n"
          ],
          "name": "stdout"
        }
      ]
    },
    {
      "cell_type": "code",
      "metadata": {
        "colab": {
          "base_uri": "https://localhost:8080/"
        },
        "id": "zleWPu7PVhWM",
        "outputId": "b0689a49-e5c9-42b5-aace-82294b8fb10c"
      },
      "source": [
        "#higher dimension\n",
        "arr5=np.array([1,2,3],ndmin=5)\n",
        "print(arr5)\n",
        "print(arr5.ndim)"
      ],
      "execution_count": 9,
      "outputs": [
        {
          "output_type": "stream",
          "text": [
            "[[[[[1 2 3]]]]]\n",
            "5\n"
          ],
          "name": "stdout"
        }
      ]
    }
  ]
}